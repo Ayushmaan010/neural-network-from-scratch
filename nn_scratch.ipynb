{
 "cells": [
  {
   "cell_type": "markdown",
   "id": "ea1ab0e0",
   "metadata": {},
   "source": [
    "neuron with three inputs"
   ]
  },
  {
   "cell_type": "code",
   "execution_count": 2,
   "id": "53790951",
   "metadata": {},
   "outputs": [
    {
     "name": "stdout",
     "output_type": "stream",
     "text": [
      "5.7\n"
     ]
    }
   ],
   "source": [
    "inputs=[1,2,3]\n",
    "weights=[0.3,0.6,0.9]\n",
    "bias=1.5\n",
    "neuron_3=0\n",
    "for i in range(len(inputs)):\n",
    "    neuron_3+=inputs[i]*weights[i]\n",
    "neuron_3+=bias\n",
    "print(neuron_3)\n",
    "    \n",
    "    "
   ]
  },
  {
   "cell_type": "markdown",
   "id": "abd613f1",
   "metadata": {},
   "source": [
    "neuron with four inputs"
   ]
  },
  {
   "cell_type": "code",
   "execution_count": 5,
   "id": "b26936b6",
   "metadata": {},
   "outputs": [
    {
     "name": "stdout",
     "output_type": "stream",
     "text": [
      "8.9\n"
     ]
    }
   ],
   "source": [
    "inputs=[1,2,3,4]\n",
    "weights=[0.3,0.6,0.9,0.8]\n",
    "bias=1.5\n",
    "neuron_4=0\n",
    "for i in range(len(inputs)):\n",
    "    neuron_4+=inputs[i]*weights[i]\n",
    "neuron_4+=bias\n",
    "print(neuron_4)\n",
    "    \n",
    "    "
   ]
  },
  {
   "cell_type": "markdown",
   "id": "eeefce89",
   "metadata": {},
   "source": [
    "first layer of neurons"
   ]
  },
  {
   "cell_type": "code",
   "execution_count": null,
   "id": "fa6c977a",
   "metadata": {},
   "outputs": [
    {
     "name": "stdout",
     "output_type": "stream",
     "text": [
      "[11.819999999999999, 12.18, 13.649999999999999]\n"
     ]
    }
   ],
   "source": [
    "inputs=[1.5,2.3,4.6,5.7]\n",
    "weights=[[0.3,0.4,0.7,0.9],[0.6,0.4,0.5,0.8],[0.3,0.5,0.6,0.7]]\n",
    "weights1=weights[0] #weights asso. with 1st neuron\n",
    "weights2=weights[1] #weights asso. with 2nd neuron\n",
    "weights3=weights[2] #weights asso. with 3rd neuron\n",
    "neuron_11=0\n",
    "neuron_22=0\n",
    "neuron_33=0\n",
    "bias=[2.1,3.5,5.3]\n",
    "for i in range(len(inputs)):\n",
    "    neuron_11+=weights1[i]*inputs[i]\n",
    "    neuron_22+=weights2[i]*inputs[i]\n",
    "    neuron_33+=weights3[i]*inputs[i]\n",
    "neuron_11+=bias[0]\n",
    "neuron_22+=bias[1]\n",
    "neuron_33+=bias[2]\n",
    "outputs=[neuron_11,neuron_22,neuron_33]\n",
    "print(outputs)\n"
   ]
  }
 ],
 "metadata": {
  "kernelspec": {
   "display_name": ".venv",
   "language": "python",
   "name": "python3"
  },
  "language_info": {
   "codemirror_mode": {
    "name": "ipython",
    "version": 3
   },
   "file_extension": ".py",
   "mimetype": "text/x-python",
   "name": "python",
   "nbconvert_exporter": "python",
   "pygments_lexer": "ipython3",
   "version": "3.10.11"
  }
 },
 "nbformat": 4,
 "nbformat_minor": 5
}
